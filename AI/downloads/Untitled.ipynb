{
 "cells": [
  {
   "cell_type": "code",
   "execution_count": 2,
   "metadata": {},
   "outputs": [],
   "source": [
    "%reload_ext autoreload\n",
    "%autoreload 2\n",
    "%matplotlib inline"
   ]
  },
  {
   "cell_type": "code",
   "execution_count": null,
   "metadata": {},
   "outputs": [
    {
     "name": "stdout",
     "output_type": "stream",
     "text": [
      "Collecting git+https://github.com/fastai/fastai.git\n",
      "  Cloning https://github.com/fastai/fastai.git to /tmp/pip-req-build-jpj0dfti\n",
      "Requirement already satisfied: bottleneck in /home/papa/.conda/envs/fastAI/lib/python3.6/site-packages (from fastai==1.0.40.dev0) (1.2.1)\n",
      "Collecting fastprogress>=0.1.18 (from fastai==1.0.40.dev0)\n",
      "  Downloading https://files.pythonhosted.org/packages/78/57/24a5e20f4a357f7f1c90dd5250071951c832b2480fd4fefd7be48edf4180/fastprogress-0.1.18-py3-none-any.whl\n",
      "Requirement already satisfied: beautifulsoup4 in /home/papa/.conda/envs/fastAI/lib/python3.6/site-packages (from fastai==1.0.40.dev0) (4.6.3)\n",
      "Requirement already satisfied: matplotlib in /home/papa/.conda/envs/fastAI/lib/python3.6/site-packages (from fastai==1.0.40.dev0) (3.0.2)\n",
      "Requirement already satisfied: numexpr in /home/papa/.conda/envs/fastAI/lib/python3.6/site-packages (from fastai==1.0.40.dev0) (2.6.8)\n",
      "Requirement already satisfied: numpy>=1.12 in /home/papa/.local/lib/python3.6/site-packages (from fastai==1.0.40.dev0) (1.15.4)\n",
      "Collecting nvidia-ml-py3 (from fastai==1.0.40.dev0)\n",
      "  Downloading https://files.pythonhosted.org/packages/6d/64/cce82bddb80c0b0f5c703bbdafa94bfb69a1c5ad7a79cff00b482468f0d3/nvidia-ml-py3-7.352.0.tar.gz\n",
      "Requirement already satisfied: pandas in /home/papa/.conda/envs/fastAI/lib/python3.6/site-packages (from fastai==1.0.40.dev0) (0.23.4)\n",
      "Requirement already satisfied: packaging in /home/papa/.conda/envs/fastAI/lib/python3.6/site-packages (from fastai==1.0.40.dev0) (18.0)\n",
      "Requirement already satisfied: Pillow in /home/papa/.local/lib/python3.6/site-packages (from fastai==1.0.40.dev0) (5.3.0)\n",
      "Requirement already satisfied: pyyaml in /home/papa/.local/lib/python3.6/site-packages (from fastai==1.0.40.dev0) (3.13)\n",
      "Requirement already satisfied: requests in /home/papa/.local/lib/python3.6/site-packages (from fastai==1.0.40.dev0) (2.21.0)\n",
      "Requirement already satisfied: scipy in /home/papa/.local/lib/python3.6/site-packages (from fastai==1.0.40.dev0) (1.2.0)\n",
      "Collecting spacy>=2.0.18 (from fastai==1.0.40.dev0)\n",
      "\u001b[?25l  Downloading https://files.pythonhosted.org/packages/ae/6e/a89da6b5c83f8811e46e3a9270c1aed90e9b9ee6c60faf52b7239e5d3d69/spacy-2.0.18-cp36-cp36m-manylinux1_x86_64.whl (25.2MB)\n",
      "\u001b[K    100% |████████████████████████████████| 25.2MB 139kB/s ta 0:00:01\n",
      "\u001b[?25hCollecting torch>=1.0.0 (from fastai==1.0.40.dev0)\n",
      "\u001b[?25l  Downloading https://files.pythonhosted.org/packages/7e/60/66415660aa46b23b5e1b72bc762e816736ce8d7260213e22365af51e8f9c/torch-1.0.0-cp36-cp36m-manylinux1_x86_64.whl (591.8MB)\n",
      "\u001b[K    39% |████████████▊                   | 236.2MB 351kB/s eta 0:16:520    34% |███████████                     | 202.1MB 102kB/s eta 1:03:20    36% |███████████▉                    | 218.3MB 205kB/s eta 0:30:16"
     ]
    }
   ],
   "source": [
    "!python -m pip install git+https://github.com/fastai/fastai.git\n",
    "from fastai.imports import*"
   ]
  },
  {
   "cell_type": "code",
   "execution_count": null,
   "metadata": {},
   "outputs": [],
   "source": []
  }
 ],
 "metadata": {
  "kernelspec": {
   "display_name": "Python 3",
   "language": "python",
   "name": "python3"
  },
  "language_info": {
   "codemirror_mode": {
    "name": "ipython",
    "version": 3
   },
   "file_extension": ".py",
   "mimetype": "text/x-python",
   "name": "python",
   "nbconvert_exporter": "python",
   "pygments_lexer": "ipython3",
   "version": "3.6.7"
  }
 },
 "nbformat": 4,
 "nbformat_minor": 2
}
